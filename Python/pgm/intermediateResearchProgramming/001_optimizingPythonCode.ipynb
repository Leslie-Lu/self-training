{
 "cells": [
  {
   "cell_type": "markdown",
   "metadata": {},
   "source": [
    "# https://iprogramming.bacpop.org/print.html\n",
    "# counting codons"
   ]
  },
  {
   "cell_type": "code",
   "execution_count": 2,
   "metadata": {},
   "outputs": [
    {
     "name": "stdout",
     "output_type": "stream",
     "text": [
      "time to read 4889 samples: 120.72291 ms\n"
     ]
    }
   ],
   "source": [
    "import time\n",
    "import gzip\n",
    "\n",
    "def read_fasta_sample(fp):\n",
    "    name, seq= None, []\n",
    "    for line in fp:\n",
    "        line= line.strip()\n",
    "        if line.startswith(\">\"):\n",
    "            if name: yield (name, \"\".join(seq).upper())\n",
    "            name, seq= line[1:], []\n",
    "        else:\n",
    "            seq.append(line)\n",
    "    if name: yield (name, \"\".join(seq).upper())\n",
    "\n",
    "def read_file(file_name):\n",
    "    n_samples= 0\n",
    "    with open(file_name, \"rb\") as test_f:\n",
    "        zipped= test_f.read(2) == b\"\\x1f\\x8b\" # gzip文件前两个字节标志\n",
    "    if zipped:\n",
    "        fh= gzip.open(file_name, \"rt\")\n",
    "    else:\n",
    "        fh= open(file_name, \"rt\")\n",
    "    with fh as fasta:\n",
    "        seqs= list()\n",
    "        names= list()\n",
    "        for h, s in read_fasta_sample(fasta):\n",
    "            if len(s) % 3 != 0:\n",
    "                raise RuntimeError(f\"Sequence {h} is not a multiple of three\")\n",
    "            elif len(seqs)>0 and len(s) != len(seqs[0]):\n",
    "                raise RuntimeError(f\"Sequence {h} is length {len(s)}, expecting {len(seqs[0])}\")\n",
    "            else:\n",
    "                seqs.append(s)\n",
    "                names.append(h)\n",
    "    return seqs, names\n",
    "\n",
    "def main():\n",
    "    start_t= time.time_ns()\n",
    "    seqs, names= read_file(\"/share/home/lsy_luzhen/software/Git/data/self-training/Python/materials/BIGSdb_024538_1190028856_31182.dna.aln.gz\")\n",
    "    end_t= time.time_ns()\n",
    "    time_ms= (end_t-start_t)/1000000\n",
    "    print(f\"time to read {len(seqs)} samples: {time_ms} ms\")\n",
    "\n",
    "if __name__== \"__main__\":\n",
    "    main()\n"
   ]
  },
  {
   "cell_type": "code",
   "execution_count": null,
   "metadata": {},
   "outputs": [],
   "source": []
  }
 ],
 "metadata": {
  "kernelspec": {
   "display_name": "Python 3",
   "language": "python",
   "name": "python3"
  },
  "language_info": {
   "codemirror_mode": {
    "name": "ipython",
    "version": 3
   },
   "file_extension": ".py",
   "mimetype": "text/x-python",
   "name": "python",
   "nbconvert_exporter": "python",
   "pygments_lexer": "ipython3",
   "version": "3.13.0"
  }
 },
 "nbformat": 4,
 "nbformat_minor": 2
}
