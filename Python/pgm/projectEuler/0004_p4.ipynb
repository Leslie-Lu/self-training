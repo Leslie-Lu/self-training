{
 "cells": [
  {
   "cell_type": "markdown",
   "metadata": {},
   "source": [
    "## Largest Palindrome Product\n",
    "## Problem 4\n",
    "\n",
    "A palindromic number reads the same both ways. The largest palindrome made from the product of two 2-digit numbers is 9009=91*99.\n",
    "\n",
    "Find the largest palindrome made from the product of two 3-digit numbers.\n"
   ]
  },
  {
   "cell_type": "code",
   "execution_count": 1,
   "metadata": {},
   "outputs": [
    {
     "data": {
      "text/plain": [
       "906609"
      ]
     },
     "execution_count": 1,
     "metadata": {},
     "output_type": "execute_result"
    }
   ],
   "source": [
    "# Solution 1\n",
    "def find_maximum():\n",
    "    ans= max(\n",
    "        i*j\n",
    "        for i in range(100, 1000)\n",
    "        for j in range(100, 1000)\n",
    "        if str(i*j) == str(i*j)[::-1]\n",
    "    )\n",
    "    return ans\n",
    "\n",
    "find_maximum()"
   ]
  },
  {
   "cell_type": "code",
   "execution_count": 8,
   "metadata": {},
   "outputs": [
    {
     "data": {
      "text/plain": [
       "906609"
      ]
     },
     "execution_count": 8,
     "metadata": {},
     "output_type": "execute_result"
    }
   ],
   "source": [
    "# Solution 2\n",
    "def reverse(n):\n",
    "    reversed= 0\n",
    "    while n>0:\n",
    "        reversed= reversed*10 + n % 10\n",
    "        n= n//10\n",
    "    return reversed\n",
    "\n",
    "def is_palindrome(n):\n",
    "    return n==reverse(n)\n",
    "\n",
    "largestPalindrome= 0\n",
    "a= 100\n",
    "def palindrome():\n",
    "    global largestPalindrome, a\n",
    "    while a<1000:\n",
    "        b= 100\n",
    "        while b<1000:\n",
    "            product= a*b\n",
    "            if is_palindrome(product) and product>largestPalindrome:\n",
    "                largestPalindrome= product\n",
    "            b+= 1\n",
    "        a+= 1\n",
    "    return largestPalindrome\n",
    "\n",
    "palindrome()"
   ]
  },
  {
   "cell_type": "code",
   "execution_count": 10,
   "metadata": {},
   "outputs": [
    {
     "data": {
      "text/plain": [
       "906609"
      ]
     },
     "execution_count": 10,
     "metadata": {},
     "output_type": "execute_result"
    }
   ],
   "source": [
    "# Solution 3\n",
    "largestPalindrome= 0\n",
    "a= 100\n",
    "def improved_palindrome():\n",
    "    global largestPalindrome, a\n",
    "    while a<1000:\n",
    "        b= a # Start b from a to avoid duplicate calculations\n",
    "        while b<1000:\n",
    "            product= a*b\n",
    "            if is_palindrome(product) and product>largestPalindrome:\n",
    "                largestPalindrome= product\n",
    "            b+= 1\n",
    "        a+= 1\n",
    "    return largestPalindrome\n",
    "\n",
    "improved_palindrome()"
   ]
  },
  {
   "cell_type": "code",
   "execution_count": 11,
   "metadata": {},
   "outputs": [
    {
     "data": {
      "text/plain": [
       "906609"
      ]
     },
     "execution_count": 11,
     "metadata": {},
     "output_type": "execute_result"
    }
   ],
   "source": [
    "# Solution 4\n",
    "largestPalindrome= 0\n",
    "a= 100\n",
    "def optimized_palindrome():\n",
    "    global largestPalindrome, a\n",
    "    while a<1000:\n",
    "        b= 999 # Start b from 999 to find larger products first\n",
    "        while b>=a: # Only check pairs (a, b) where b >= a\n",
    "            product= a*b\n",
    "            if product <= largestPalindrome: # No need to check smaller products\n",
    "                break\n",
    "\n",
    "            if is_palindrome(product):\n",
    "                largestPalindrome= product\n",
    "            b-= 1\n",
    "        a+= 1\n",
    "    return largestPalindrome\n",
    "\n",
    "optimized_palindrome()"
   ]
  },
  {
   "cell_type": "code",
   "execution_count": 14,
   "metadata": {},
   "outputs": [
    {
     "data": {
      "text/plain": [
       "906609"
      ]
     },
     "execution_count": 14,
     "metadata": {},
     "output_type": "execute_result"
    }
   ],
   "source": [
    "# Solution 5\n",
    "largestPalindrome= 0\n",
    "a= 999\n",
    "def further_optimized_palindrome():\n",
    "    global largestPalindrome, a\n",
    "    while a>=100:\n",
    "        if a % 11 == 0:\n",
    "            b= 999\n",
    "            subtract= 1\n",
    "        else:\n",
    "            b= 990 # The largest multiple of 11 less than 999\n",
    "            subtract= 11\n",
    "        \n",
    "        while b>=a:\n",
    "            product= a*b\n",
    "            if product <= largestPalindrome:\n",
    "                break\n",
    "\n",
    "            if is_palindrome(product):\n",
    "                largestPalindrome= product\n",
    "            \n",
    "            b-= subtract\n",
    "        a-= 1\n",
    "    return largestPalindrome\n",
    "\n",
    "further_optimized_palindrome()"
   ]
  },
  {
   "cell_type": "code",
   "execution_count": 16,
   "metadata": {},
   "outputs": [
    {
     "data": {
      "text/plain": [
       "906609"
      ]
     },
     "execution_count": 16,
     "metadata": {},
     "output_type": "execute_result"
    }
   ],
   "source": [
    "# Solution 6\n",
    "import numpy as np\n",
    "reverse_vec= np.vectorize(reverse)\n",
    "def is_palindrome_vec(n):\n",
    "    return n==reverse_vec(n)\n",
    "\n",
    "def max_palindrome_vec(n):\n",
    "    num= n[is_palindrome_vec(n)]\n",
    "    if np.size(num)==0: # use np.size to check if the array is empty\n",
    "        return None\n",
    "    else:\n",
    "        return np.max(num)\n",
    "\n",
    "def vectorized_palindrome(n):\n",
    "    largestPalindrome= 0\n",
    "    x= np.arange(n//10, n)\n",
    "    for i in x:\n",
    "        max_value= max_palindrome_vec(i*x)\n",
    "        if max_value is not None and max_value > largestPalindrome:\n",
    "            largestPalindrome = max_value\n",
    "    return largestPalindrome\n",
    "\n",
    "vectorized_palindrome(999+1)"
   ]
  },
  {
   "cell_type": "code",
   "execution_count": null,
   "metadata": {},
   "outputs": [],
   "source": []
  }
 ],
 "metadata": {
  "kernelspec": {
   "display_name": "venv_py313",
   "language": "python",
   "name": "python3"
  },
  "language_info": {
   "codemirror_mode": {
    "name": "ipython",
    "version": 3
   },
   "file_extension": ".py",
   "mimetype": "text/x-python",
   "name": "python",
   "nbconvert_exporter": "python",
   "pygments_lexer": "ipython3",
   "version": "3.13.1"
  }
 },
 "nbformat": 4,
 "nbformat_minor": 2
}
