{
 "cells": [
  {
   "cell_type": "markdown",
   "metadata": {},
   "source": [
    "## Multiples of 3 or 5\n",
    "## Problem 1\n",
    "\n",
    "If we list all the natural numbers below 10 that are multiples of 3 or 5, we get 3, 5, 6, 9. The sum of these multiples is 23.\n",
    "Find the sum of all the multiples of 3 or 5 below 1000.\n"
   ]
  },
  {
   "cell_type": "code",
   "execution_count": null,
   "metadata": {},
   "outputs": [
    {
     "name": "stdout",
     "output_type": "stream",
     "text": []
    },
    {
     "name": "stdout",
     "output_type": "stream",
     "text": []
    }
   ],
   "source": [
    "# Solution to Project Euler Problem 1\n",
    "def sum_of_multiples(limit):\n",
    "    return sum(x for x in range(limit) if x % 3 == 0 or x % 5 == 0)\n",
    "\n",
    "result = sum_of_multiples(10)\n",
    "result\n",
    "result = sum_of_multiples(1000)\n",
    "result\n"
   ]
  },
  {
   "cell_type": "code",
   "execution_count": null,
   "metadata": {},
   "outputs": [
    {
     "name": "stdout",
     "output_type": "stream",
     "text": []
    },
    {
     "name": "stdout",
     "output_type": "stream",
     "text": []
    }
   ],
   "source": [
    "# solution using a more efficient method\n",
    "def SumDivisibleBy(n, limit) -> int:\n",
    "    \"\"\"\n",
    "    Returns the sum of all numbers less than limit that are divisible by n.\n",
    "    \"\"\"\n",
    "    # Find the largest number less than limit that is divisible by n\n",
    "    p = (limit - 1) // n\n",
    "    # Use the formula for the sum of an arithmetic series to calculate the sum\n",
    "    return n * p * (p + 1) // 2\n",
    "\n",
    "SumDivisibleBy(3, 10) + SumDivisibleBy(5, 10) - SumDivisibleBy(15, 10)\n",
    "SumDivisibleBy(3, 1000) + SumDivisibleBy(5, 1000) - SumDivisibleBy(15, 1000)"
   ]
  }
 ],
 "metadata": {
  "kernelspec": {
   "display_name": "venv_py313",
   "language": "python",
   "name": "python3"
  },
  "language_info": {
   "codemirror_mode": {
    "name": "ipython",
    "version": 3
   },
   "file_extension": ".py",
   "mimetype": "text/x-python",
   "name": "python",
   "nbconvert_exporter": "python",
   "pygments_lexer": "ipython3",
   "version": "3.13.1"
  }
 },
 "nbformat": 4,
 "nbformat_minor": 2
}
