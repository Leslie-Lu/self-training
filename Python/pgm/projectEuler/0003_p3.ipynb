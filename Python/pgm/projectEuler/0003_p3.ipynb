{
 "cells": [
  {
   "cell_type": "markdown",
   "metadata": {},
   "source": [
    "## Largest Prime Factor\n",
    "## Problem 3\n",
    "\n",
    "The prime factors of 13195 are 5, 7, 13, and 29. \n",
    "What is the largest prime factor of the number 600851475143?\n"
   ]
  },
  {
   "cell_type": "code",
   "execution_count": 1,
   "metadata": {},
   "outputs": [],
   "source": [
    "# Solution 1\n",
    "import math\n",
    "def find_smallest_prime_factor(n):\n",
    "    assert n > 1, \"Input must be greater than 1\"\n",
    "    for i in range(2, math.isqrt(n) + 1):\n",
    "        if n % i == 0:\n",
    "            return i\n",
    "    return n  # n is prime if no factors were found\n",
    "\n",
    "def find_largest_prime_factor(n):\n",
    "    assert n > 1, \"Input must be greater than 1\"\n",
    "    largest_factor = 1\n",
    "    for i in range(2, math.isqrt(n) + 1):\n",
    "        while n % i == 0:\n",
    "            largest_factor = i\n",
    "            n //= i\n",
    "    if n > 1:  # n is prime and larger than the largest factor found\n",
    "        largest_factor = n\n",
    "    return largest_factor"
   ]
  },
  {
   "cell_type": "code",
   "execution_count": 3,
   "metadata": {},
   "outputs": [
    {
     "data": {
      "text/plain": [
       "(5, 29)"
      ]
     },
     "execution_count": 3,
     "metadata": {},
     "output_type": "execute_result"
    }
   ],
   "source": [
    "n= 13_195\n",
    "find_smallest_prime_factor(n), find_largest_prime_factor(n)"
   ]
  },
  {
   "cell_type": "code",
   "execution_count": 8,
   "metadata": {},
   "outputs": [
    {
     "data": {
      "text/plain": [
       "(71, 6857)"
      ]
     },
     "execution_count": 8,
     "metadata": {},
     "output_type": "execute_result"
    }
   ],
   "source": [
    "n= 600_851_475_143\n",
    "find_smallest_prime_factor(n), find_largest_prime_factor(n)"
   ]
  },
  {
   "cell_type": "code",
   "execution_count": 12,
   "metadata": {},
   "outputs": [
    {
     "data": {
      "text/plain": [
       "6857"
      ]
     },
     "execution_count": 12,
     "metadata": {},
     "output_type": "execute_result"
    }
   ],
   "source": [
    "# Solution 2\n",
    "import numpy as np\n",
    "def s2(n):\n",
    "    assert n > 1, \"Input must be greater than 1\"\n",
    "    ranges= np.array(range(2, math.isqrt(n) + 1))\n",
    "    factors= ranges[n % ranges == 0]\n",
    "    while True:\n",
    "        if np.any(factors[-1] % factors[:-1] == 0):\n",
    "            factors= factors[:-1]\n",
    "        else:\n",
    "            break\n",
    "\n",
    "    return int(factors[-1])\n",
    "\n",
    "n= 600_851_475_143\n",
    "s2(n)\n"
   ]
  },
  {
   "cell_type": "code",
   "execution_count": null,
   "metadata": {},
   "outputs": [],
   "source": []
  }
 ],
 "metadata": {
  "kernelspec": {
   "display_name": "venv_py313",
   "language": "python",
   "name": "python3"
  },
  "language_info": {
   "codemirror_mode": {
    "name": "ipython",
    "version": 3
   },
   "file_extension": ".py",
   "mimetype": "text/x-python",
   "name": "python",
   "nbconvert_exporter": "python",
   "pygments_lexer": "ipython3",
   "version": "3.13.1"
  }
 },
 "nbformat": 4,
 "nbformat_minor": 2
}
